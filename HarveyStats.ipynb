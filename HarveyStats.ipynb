{
 "cells": [
  {
   "cell_type": "code",
   "execution_count": 148,
   "metadata": {
    "collapsed": true
   },
   "outputs": [],
   "source": [
    "lines = []\n",
    "with open(\"aug_27_6pmMDT.txt\") as in_file:\n",
    "    for line in in_file:\n",
    "        lines.append(line.strip())"
   ]
  },
  {
   "cell_type": "code",
   "execution_count": 149,
   "metadata": {
    "collapsed": true
   },
   "outputs": [],
   "source": [
    "kw = [(y[0],int(y[-1])) for y in [x.split(\":\") for x in lines[3:-1]]]"
   ]
  },
  {
   "cell_type": "code",
   "execution_count": 150,
   "metadata": {},
   "outputs": [
    {
     "data": {
      "text/plain": [
       "5880488"
      ]
     },
     "execution_count": 150,
     "metadata": {},
     "output_type": "execute_result"
    }
   ],
   "source": [
    "harv_kw_sum = 0;\n",
    "for k in kw:\n",
    "    x = k[0].split()\n",
    "    if len(x) > 1:\n",
    "        if \"harvey\" not in x:\n",
    "            harv_kw_sum += k[1]\n",
    "    else:\n",
    "        harv_kw_sum += k[1]\n",
    "harv_kw_sum"
   ]
  },
  {
   "cell_type": "markdown",
   "metadata": {},
   "source": [
    "# Geo Tag?"
   ]
  },
  {
   "cell_type": "code",
   "execution_count": 151,
   "metadata": {
    "collapsed": true
   },
   "outputs": [],
   "source": [
    "import json, sys, pprint\n",
    "import pandas as pd"
   ]
  },
  {
   "cell_type": "code",
   "execution_count": 152,
   "metadata": {},
   "outputs": [
    {
     "name": "stderr",
     "output_type": "stream",
     "text": [
      "Found 5685 geotagged of 4547313 processed"
     ]
    },
    {
     "data": {
      "text/plain": [
       "5685"
      ]
     },
     "execution_count": 152,
     "metadata": {},
     "output_type": "execute_result"
    }
   ],
   "source": [
    "geo_tagged = []\n",
    "count = 0;\n",
    "with open('tweets_august_28.jsonl') as inFile:\n",
    "    for line in inFile:\n",
    "        count += 1\n",
    "        try:\n",
    "            t = json.loads(line.strip())\n",
    "            if 'coordinates' in t:\n",
    "                if t['coordinates']:\n",
    "                    geo_tagged.append(t)\n",
    "                    sys.stderr.write(\"\\rFound {0} geotagged of {1} processed\".format(len(geo_tagged),count))\n",
    "        except:\n",
    "            pprint.pprint(line.strip())\n",
    "            continue\n",
    "len(geo_tagged)  "
   ]
  },
  {
   "cell_type": "code",
   "execution_count": 155,
   "metadata": {
    "collapsed": true
   },
   "outputs": [],
   "source": [
    "def tweet_to_feature(t):\n",
    "    return {\n",
    "        \"type\":\"Feature\",\n",
    "        \"geometry\" : {\"type\" : \"Point\", \"coordinates\" : t['coordinates']['coordinates']},\n",
    "        \"properties\":{\n",
    "            \"created_at\" : t['created_at'],\n",
    "            \"timestamp\"  : int(pd.Timestamp(t['created_at']).timestamp()),\n",
    "            \"text\" : t['text'],\n",
    "            \"user\" : t['user']['screen_name']\n",
    "        }\n",
    "    }"
   ]
  },
  {
   "cell_type": "code",
   "execution_count": 156,
   "metadata": {
    "collapsed": true
   },
   "outputs": [],
   "source": [
    "with open('/data/www/jennings/harvey.geojson','w') as outFile:\n",
    "    ts = []\n",
    "    for t in geo_tagged:\n",
    "        ts.append(tweet_to_feature(t))\n",
    "    json.dump({\"type\" : \"FeatureCollection\",\"features\" : ts}, outFile)"
   ]
  }
 ],
 "metadata": {
  "kernelspec": {
   "display_name": "Python 3",
   "language": "python",
   "name": "python3"
  },
  "language_info": {
   "codemirror_mode": {
    "name": "ipython",
    "version": 3
   },
   "file_extension": ".py",
   "mimetype": "text/x-python",
   "name": "python",
   "nbconvert_exporter": "python",
   "pygments_lexer": "ipython3",
   "version": "3.5.2"
  }
 },
 "nbformat": 4,
 "nbformat_minor": 2
}
